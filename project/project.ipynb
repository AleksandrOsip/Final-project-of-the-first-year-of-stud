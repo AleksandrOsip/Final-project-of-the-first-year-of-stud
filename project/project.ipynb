{
 "cells": [
  {
   "cell_type": "markdown",
   "metadata": {},
   "source": [
    "# <center>Skill Factory Year One Final Project\n",
    "## <center>Прогнозирование цен на недвижимость\n",
    "\n",
    "## 1) Обзор проекта\n",
    "Разработайте сервис для прогнозирования стоимости объектов недвижимости на основе истории предложений.\n",
    "\n",
    "## 2) Предварительный анализ данных - Часть 1"
   ]
  },
  {
   "cell_type": "code",
   "execution_count": 1,
   "metadata": {},
   "outputs": [],
   "source": [
    "# Импорт библиотек\n",
    "\n",
    "import category_encoders as ce\n",
    "import matplotlib.pyplot as plt\n",
    "import numpy as np\n",
    "import pandas as pd\n",
    "import seaborn as sns\n",
    "from lightgbm import LGBMRegressor\n",
    "from scipy import stats\n",
    "from scipy.stats import shapiro\n",
    "from sklearn import metrics, preprocessing\n",
    "from sklearn.ensemble import (GradientBoostingRegressor, RandomForestRegressor,\n",
    "                              StackingRegressor)\n",
    "from sklearn.feature_selection import SelectKBest, f_regression\n",
    "from sklearn.linear_model import LinearRegression\n",
    "from sklearn.model_selection import train_test_split\n",
    "from sklearn.preprocessing import OrdinalEncoder\n",
    "from xgboost import XGBRegressor"
   ]
  },
  {
   "cell_type": "markdown",
   "metadata": {},
   "source": [
    "#### Обзор данных"
   ]
  },
  {
   "cell_type": "code",
   "execution_count": 2,
   "metadata": {},
   "outputs": [],
   "source": [
    "# Настроим различные пути к файлу.\n",
    "W_pth = r'data.csv' # Windows path.\n",
    "L_pth = '/home/mike/Documents/Coding/Data/Final project/data.csv/data.csv' # Linux path.\n",
    "\n",
    "if os.path.exists(L_pth):\n",
    "    data = pd.read_csv(L_pth)\n",
    "\n",
    "elif os.path.exists(W_pth):\n",
    "    data = pd.read_csv(W_pth)\n",
    "\n",
    "else:\n",
    "    print('Проверте верность пути нахождения файла.')"
   ]
  },
  {
   "cell_type": "code",
   "execution_count": 3,
   "metadata": {},
   "outputs": [
    {
     "data": {
      "text/html": [
       "<div>\n",
       "<style scoped>\n",
       "    .dataframe tbody tr th:only-of-type {\n",
       "        vertical-align: middle;\n",
       "    }\n",
       "\n",
       "    .dataframe tbody tr th {\n",
       "        vertical-align: top;\n",
       "    }\n",
       "\n",
       "    .dataframe thead th {\n",
       "        text-align: right;\n",
       "    }\n",
       "</style>\n",
       "<table border=\"1\" class=\"dataframe\">\n",
       "  <thead>\n",
       "    <tr style=\"text-align: right;\">\n",
       "      <th></th>\n",
       "      <th>status</th>\n",
       "      <th>private pool</th>\n",
       "      <th>propertyType</th>\n",
       "      <th>street</th>\n",
       "      <th>baths</th>\n",
       "      <th>homeFacts</th>\n",
       "      <th>fireplace</th>\n",
       "      <th>city</th>\n",
       "      <th>schools</th>\n",
       "      <th>sqft</th>\n",
       "      <th>zipcode</th>\n",
       "      <th>beds</th>\n",
       "      <th>state</th>\n",
       "      <th>stories</th>\n",
       "      <th>mls-id</th>\n",
       "      <th>PrivatePool</th>\n",
       "      <th>MlsId</th>\n",
       "      <th>target</th>\n",
       "    </tr>\n",
       "  </thead>\n",
       "  <tbody>\n",
       "    <tr>\n",
       "      <th>0</th>\n",
       "      <td>Active</td>\n",
       "      <td>NaN</td>\n",
       "      <td>Single Family Home</td>\n",
       "      <td>240 Heather Ln</td>\n",
       "      <td>3.5</td>\n",
       "      <td>{'atAGlanceFacts': [{'factValue': '2019', 'fac...</td>\n",
       "      <td>Gas Logs</td>\n",
       "      <td>Southern Pines</td>\n",
       "      <td>[{'rating': ['4', '4', '7', 'NR', '4', '7', 'N...</td>\n",
       "      <td>2900</td>\n",
       "      <td>28387</td>\n",
       "      <td>4</td>\n",
       "      <td>NC</td>\n",
       "      <td>NaN</td>\n",
       "      <td>NaN</td>\n",
       "      <td>NaN</td>\n",
       "      <td>611019</td>\n",
       "      <td>$418,000</td>\n",
       "    </tr>\n",
       "    <tr>\n",
       "      <th>1</th>\n",
       "      <td>for sale</td>\n",
       "      <td>NaN</td>\n",
       "      <td>single-family home</td>\n",
       "      <td>12911 E Heroy Ave</td>\n",
       "      <td>3 Baths</td>\n",
       "      <td>{'atAGlanceFacts': [{'factValue': '2019', 'fac...</td>\n",
       "      <td>NaN</td>\n",
       "      <td>Spokane Valley</td>\n",
       "      <td>[{'rating': ['4/10', 'None/10', '4/10'], 'data...</td>\n",
       "      <td>1,947 sqft</td>\n",
       "      <td>99216</td>\n",
       "      <td>3 Beds</td>\n",
       "      <td>WA</td>\n",
       "      <td>2.0</td>\n",
       "      <td>NaN</td>\n",
       "      <td>NaN</td>\n",
       "      <td>201916904</td>\n",
       "      <td>$310,000</td>\n",
       "    </tr>\n",
       "    <tr>\n",
       "      <th>2</th>\n",
       "      <td>for sale</td>\n",
       "      <td>NaN</td>\n",
       "      <td>single-family home</td>\n",
       "      <td>2005 Westridge Rd</td>\n",
       "      <td>2 Baths</td>\n",
       "      <td>{'atAGlanceFacts': [{'factValue': '1961', 'fac...</td>\n",
       "      <td>yes</td>\n",
       "      <td>Los Angeles</td>\n",
       "      <td>[{'rating': ['8/10', '4/10', '8/10'], 'data': ...</td>\n",
       "      <td>3,000 sqft</td>\n",
       "      <td>90049</td>\n",
       "      <td>3 Beds</td>\n",
       "      <td>CA</td>\n",
       "      <td>1.0</td>\n",
       "      <td>NaN</td>\n",
       "      <td>yes</td>\n",
       "      <td>FR19221027</td>\n",
       "      <td>$2,895,000</td>\n",
       "    </tr>\n",
       "  </tbody>\n",
       "</table>\n",
       "</div>"
      ],
      "text/plain": [
       "     status private pool        propertyType             street    baths  \\\n",
       "0    Active          NaN  Single Family Home     240 Heather Ln      3.5   \n",
       "1  for sale          NaN  single-family home  12911 E Heroy Ave  3 Baths   \n",
       "2  for sale          NaN  single-family home  2005 Westridge Rd  2 Baths   \n",
       "\n",
       "                                           homeFacts fireplace  \\\n",
       "0  {'atAGlanceFacts': [{'factValue': '2019', 'fac...  Gas Logs   \n",
       "1  {'atAGlanceFacts': [{'factValue': '2019', 'fac...       NaN   \n",
       "2  {'atAGlanceFacts': [{'factValue': '1961', 'fac...       yes   \n",
       "\n",
       "             city                                            schools  \\\n",
       "0  Southern Pines  [{'rating': ['4', '4', '7', 'NR', '4', '7', 'N...   \n",
       "1  Spokane Valley  [{'rating': ['4/10', 'None/10', '4/10'], 'data...   \n",
       "2     Los Angeles  [{'rating': ['8/10', '4/10', '8/10'], 'data': ...   \n",
       "\n",
       "         sqft zipcode    beds state stories mls-id PrivatePool       MlsId  \\\n",
       "0        2900   28387       4    NC     NaN    NaN         NaN      611019   \n",
       "1  1,947 sqft   99216  3 Beds    WA     2.0    NaN         NaN   201916904   \n",
       "2  3,000 sqft   90049  3 Beds    CA     1.0    NaN         yes  FR19221027   \n",
       "\n",
       "       target  \n",
       "0    $418,000  \n",
       "1    $310,000  \n",
       "2  $2,895,000  "
      ]
     },
     "execution_count": 3,
     "metadata": {},
     "output_type": "execute_result"
    }
   ],
   "source": [
    "data.head(3)"
   ]
  },
  {
   "cell_type": "markdown",
   "metadata": {},
   "source": [
    "**Названия столбцов**\n",
    "1. status\n",
    "2. private pool\n",
    "3. propertyType\n",
    "4. street\n",
    "5. baths\n",
    "6. homeFacts\n",
    "7. fireplace\n",
    "8. city\n",
    "9. schools\n",
    "10. sqft\n",
    "11. zipcode\n",
    "12. beds\n",
    "13. state\n",
    "14. stories\n",
    "15. mls-id\n",
    "16. PrivatePool\n",
    "17. MlsId\n",
    "18. target"
   ]
  },
  {
   "cell_type": "code",
   "execution_count": 4,
   "metadata": {},
   "outputs": [
    {
     "data": {
      "text/html": [
       "<div>\n",
       "<style scoped>\n",
       "    .dataframe tbody tr th:only-of-type {\n",
       "        vertical-align: middle;\n",
       "    }\n",
       "\n",
       "    .dataframe tbody tr th {\n",
       "        vertical-align: top;\n",
       "    }\n",
       "\n",
       "    .dataframe thead th {\n",
       "        text-align: right;\n",
       "    }\n",
       "</style>\n",
       "<table border=\"1\" class=\"dataframe\">\n",
       "  <thead>\n",
       "    <tr style=\"text-align: right;\">\n",
       "      <th></th>\n",
       "      <th>status</th>\n",
       "      <th>private pool</th>\n",
       "      <th>propertyType</th>\n",
       "      <th>street</th>\n",
       "      <th>baths</th>\n",
       "      <th>homeFacts</th>\n",
       "      <th>fireplace</th>\n",
       "      <th>city</th>\n",
       "      <th>schools</th>\n",
       "      <th>sqft</th>\n",
       "      <th>zipcode</th>\n",
       "      <th>beds</th>\n",
       "      <th>state</th>\n",
       "      <th>stories</th>\n",
       "      <th>mls-id</th>\n",
       "      <th>PrivatePool</th>\n",
       "      <th>MlsId</th>\n",
       "      <th>target</th>\n",
       "    </tr>\n",
       "  </thead>\n",
       "  <tbody>\n",
       "    <tr>\n",
       "      <th>count</th>\n",
       "      <td>337267</td>\n",
       "      <td>4181</td>\n",
       "      <td>342452</td>\n",
       "      <td>377183</td>\n",
       "      <td>270847</td>\n",
       "      <td>377185</td>\n",
       "      <td>103115</td>\n",
       "      <td>377151</td>\n",
       "      <td>377185</td>\n",
       "      <td>336608</td>\n",
       "      <td>377185</td>\n",
       "      <td>285903</td>\n",
       "      <td>377185</td>\n",
       "      <td>226470</td>\n",
       "      <td>24942</td>\n",
       "      <td>40311</td>\n",
       "      <td>310305</td>\n",
       "      <td>374704</td>\n",
       "    </tr>\n",
       "    <tr>\n",
       "      <th>unique</th>\n",
       "      <td>159</td>\n",
       "      <td>1</td>\n",
       "      <td>1280</td>\n",
       "      <td>337076</td>\n",
       "      <td>229</td>\n",
       "      <td>321009</td>\n",
       "      <td>1653</td>\n",
       "      <td>2026</td>\n",
       "      <td>297365</td>\n",
       "      <td>25405</td>\n",
       "      <td>4549</td>\n",
       "      <td>1184</td>\n",
       "      <td>39</td>\n",
       "      <td>348</td>\n",
       "      <td>24907</td>\n",
       "      <td>2</td>\n",
       "      <td>232944</td>\n",
       "      <td>43939</td>\n",
       "    </tr>\n",
       "    <tr>\n",
       "      <th>top</th>\n",
       "      <td>for sale</td>\n",
       "      <td>Yes</td>\n",
       "      <td>single-family home</td>\n",
       "      <td>Address Not Disclosed</td>\n",
       "      <td>2 Baths</td>\n",
       "      <td>{'atAGlanceFacts': [{'factValue': '', 'factLab...</td>\n",
       "      <td>yes</td>\n",
       "      <td>Houston</td>\n",
       "      <td>[{'rating': [], 'data': {'Distance': [], 'Grad...</td>\n",
       "      <td>0</td>\n",
       "      <td>32137</td>\n",
       "      <td>3 Beds</td>\n",
       "      <td>FL</td>\n",
       "      <td>1.0</td>\n",
       "      <td>No MLS#</td>\n",
       "      <td>yes</td>\n",
       "      <td>NO MLS</td>\n",
       "      <td>$225,000</td>\n",
       "    </tr>\n",
       "    <tr>\n",
       "      <th>freq</th>\n",
       "      <td>156104</td>\n",
       "      <td>4181</td>\n",
       "      <td>92206</td>\n",
       "      <td>672</td>\n",
       "      <td>52466</td>\n",
       "      <td>7174</td>\n",
       "      <td>50356</td>\n",
       "      <td>24442</td>\n",
       "      <td>4204</td>\n",
       "      <td>11854</td>\n",
       "      <td>2141</td>\n",
       "      <td>53459</td>\n",
       "      <td>115449</td>\n",
       "      <td>67454</td>\n",
       "      <td>3</td>\n",
       "      <td>28793</td>\n",
       "      <td>24</td>\n",
       "      <td>1462</td>\n",
       "    </tr>\n",
       "  </tbody>\n",
       "</table>\n",
       "</div>"
      ],
      "text/plain": [
       "          status private pool        propertyType                 street  \\\n",
       "count     337267         4181              342452                 377183   \n",
       "unique       159            1                1280                 337076   \n",
       "top     for sale          Yes  single-family home  Address Not Disclosed   \n",
       "freq      156104         4181               92206                    672   \n",
       "\n",
       "          baths                                          homeFacts fireplace  \\\n",
       "count    270847                                             377185    103115   \n",
       "unique      229                                             321009      1653   \n",
       "top     2 Baths  {'atAGlanceFacts': [{'factValue': '', 'factLab...       yes   \n",
       "freq      52466                                               7174     50356   \n",
       "\n",
       "           city                                            schools    sqft  \\\n",
       "count    377151                                             377185  336608   \n",
       "unique     2026                                             297365   25405   \n",
       "top     Houston  [{'rating': [], 'data': {'Distance': [], 'Grad...       0   \n",
       "freq      24442                                               4204   11854   \n",
       "\n",
       "       zipcode    beds   state stories   mls-id PrivatePool   MlsId    target  \n",
       "count   377185  285903  377185  226470    24942       40311  310305    374704  \n",
       "unique    4549    1184      39     348    24907           2  232944     43939  \n",
       "top      32137  3 Beds      FL     1.0  No MLS#         yes  NO MLS  $225,000  \n",
       "freq      2141   53459  115449   67454        3       28793      24      1462  "
      ]
     },
     "execution_count": 4,
     "metadata": {},
     "output_type": "execute_result"
    }
   ],
   "source": [
    "data.describe()"
   ]
  },
  {
   "cell_type": "code",
   "execution_count": 5,
   "metadata": {},
   "outputs": [
    {
     "data": {
      "text/plain": [
       "(377185, 18)"
      ]
     },
     "execution_count": 5,
     "metadata": {},
     "output_type": "execute_result"
    }
   ],
   "source": [
    "data.shape"
   ]
  },
  {
   "cell_type": "code",
   "execution_count": 6,
   "metadata": {},
   "outputs": [
    {
     "name": "stdout",
     "output_type": "stream",
     "text": [
      "<class 'pandas.core.frame.DataFrame'>\n",
      "RangeIndex: 377185 entries, 0 to 377184\n",
      "Data columns (total 18 columns):\n",
      " #   Column        Non-Null Count   Dtype \n",
      "---  ------        --------------   ----- \n",
      " 0   status        337267 non-null  object\n",
      " 1   private pool  4181 non-null    object\n",
      " 2   propertyType  342452 non-null  object\n",
      " 3   street        377183 non-null  object\n",
      " 4   baths         270847 non-null  object\n",
      " 5   homeFacts     377185 non-null  object\n",
      " 6   fireplace     103115 non-null  object\n",
      " 7   city          377151 non-null  object\n",
      " 8   schools       377185 non-null  object\n",
      " 9   sqft          336608 non-null  object\n",
      " 10  zipcode       377185 non-null  object\n",
      " 11  beds          285903 non-null  object\n",
      " 12  state         377185 non-null  object\n",
      " 13  stories       226470 non-null  object\n",
      " 14  mls-id        24942 non-null   object\n",
      " 15  PrivatePool   40311 non-null   object\n",
      " 16  MlsId         310305 non-null  object\n",
      " 17  target        374704 non-null  object\n",
      "dtypes: object(18)\n",
      "memory usage: 51.8+ MB\n"
     ]
    }
   ],
   "source": [
    "data.info()"
   ]
  },
  {
   "cell_type": "code",
   "execution_count": 7,
   "metadata": {},
   "outputs": [
    {
     "name": "stdout",
     "output_type": "stream",
     "text": [
      "Number of full duplicates: 50\n"
     ]
    }
   ],
   "source": [
    "# Поиск дубликатов.\n",
    "\n",
    "print('Number of full duplicates: {}'.format(data.duplicated().sum()))"
   ]
  },
  {
   "cell_type": "code",
   "execution_count": 8,
   "metadata": {},
   "outputs": [
    {
     "name": "stdout",
     "output_type": "stream",
     "text": [
      "Number of lines without duplicates: (377135, 18)\n"
     ]
    }
   ],
   "source": [
    "# Удаление дубликатов.\n",
    "\n",
    "data.drop_duplicates(inplace=True)\n",
    "print('Number of lines without duplicates: {}'.format(data.shape))"
   ]
  },
  {
   "cell_type": "code",
   "execution_count": 9,
   "metadata": {},
   "outputs": [
    {
     "data": {
      "text/plain": [
       "status           39917\n",
       "private pool    372954\n",
       "propertyType     34733\n",
       "street               2\n",
       "baths           106308\n",
       "fireplace       274023\n",
       "city                34\n",
       "sqft             40550\n",
       "beds             91254\n",
       "stories         150673\n",
       "mls-id          352193\n",
       "PrivatePool     336825\n",
       "MlsId            66869\n",
       "target            2480\n",
       "dtype: int64"
      ]
     },
     "metadata": {},
     "output_type": "display_data"
    }
   ],
   "source": [
    "# Проверим данные на пропуски.\n",
    "\n",
    "null_data = data.isnull().sum()\n",
    "display(null_data[null_data > 0])"
   ]
  },
  {
   "cell_type": "code",
   "execution_count": 10,
   "metadata": {},
   "outputs": [
    {
     "data": {
      "text/plain": [
       "(374655, 18)"
      ]
     },
     "execution_count": 10,
     "metadata": {},
     "output_type": "execute_result"
    }
   ],
   "source": [
    "# У нас есть 2480 отсутствующих значений в \"target\" (что составляет около 0,65% от общей базы данных).\n",
    "# Они бесполезны - удалим их.\n",
    "\n",
    "data.drop(data[data.target.isna()].index, inplace=True)\n",
    "data.shape"
   ]
  },
  {
   "cell_type": "markdown",
   "metadata": {},
   "source": [
    "**target**"
   ]
  },
  {
   "cell_type": "code",
   "execution_count": 11,
   "metadata": {},
   "outputs": [
    {
     "data": {
      "text/plain": [
       "$225,000    1462\n",
       "$275,000    1355\n",
       "$250,000    1312\n",
       "$350,000    1296\n",
       "$299,900    1276\n",
       "Name: target, dtype: int64"
      ]
     },
     "execution_count": 11,
     "metadata": {},
     "output_type": "execute_result"
    }
   ],
   "source": [
    "data['target'] = data['target'].apply(lambda x: str(x).lower()) # Приведём все значения целевой переменной к нижнему регистру.\n",
    "data['target'] = data['target'].astype(str) # Преобразуем все значения в строковый вид.\n",
    "data['target'].value_counts().head() # Выведем самые частые значения."
   ]
  },
  {
   "cell_type": "code",
   "execution_count": 12,
   "metadata": {},
   "outputs": [
    {
     "data": {
      "text/plain": [
       "225000    1806\n",
       "275000    1650\n",
       "250000    1644\n",
       "350000    1641\n",
       "325000    1562\n",
       "Name: target, dtype: int64"
      ]
     },
     "execution_count": 12,
     "metadata": {},
     "output_type": "execute_result"
    }
   ],
   "source": [
    "# Удалим все ненужные символы.\n",
    "data['target'] = data['target'].replace(r'[^\\d]', '', regex=True)\n",
    "\n",
    "# Преобразуем в числовой тип.\n",
    "data['target'] = pd.to_numeric(data['target'], errors='coerce')\n",
    "data['target'].value_counts().head()"
   ]
  },
  {
   "cell_type": "code",
   "execution_count": 13,
   "metadata": {},
   "outputs": [],
   "source": [
    "# Удалим аномально малые значения цены.\n",
    "data = data[data['target'] >= 1000]"
   ]
  },
  {
   "cell_type": "code",
   "execution_count": 14,
   "metadata": {},
   "outputs": [
    {
     "name": "stdout",
     "output_type": "stream",
     "text": [
      "Целевой столбец не распределён нормально.\n"
     ]
    },
    {
     "name": "stderr",
     "output_type": "stream",
     "text": [
      "e:\\ProgramData7\\Anaconda3\\envs\\first-year\\lib\\site-packages\\scipy\\stats\\_morestats.py:1816: UserWarning: p-value may not be accurate for N > 5000.\n",
      "  warnings.warn(\"p-value may not be accurate for N > 5000.\")\n"
     ]
    }
   ],
   "source": [
    "# Тест Шапиро-Уилка на нормальность.\n",
    "\n",
    "stat, p = shapiro(data['target'])\n",
    "\n",
    "if p > 0.05:\n",
    "    print(\"Целевой столбец, скорее всего, распределен нормально.\")\n",
    "else:\n",
    "    print(\"Целевой столбец не распределён нормально.\")"
   ]
  },
  {
   "cell_type": "code",
   "execution_count": 15,
   "metadata": {},
   "outputs": [
    {
     "data": {
      "image/png": "[encoded data removed]",
      "text/plain": [
       "<Figure size 640x480 with 1 Axes>"
      ]
     },
     "metadata": {},
     "output_type": "display_data"
    }
   ],
   "source": [
    "# Используем график Q-Q (\"график квантиль-квантиль\"), чтобы визуально проверить, нормально ли распределены значения в data['target'].\n",
    "\n",
    "# Извлекаем значения из столбца 'target'.\n",
    "values = data['target'].values\n",
    "\n",
    "# Используем функцию scipy.stats.probplot для создания графика Q-Q\n",
    "stats.probplot(values, dist=\"norm\", plot=plt)\n",
    "\n",
    "plt.show()"
   ]
  },
  {
   "cell_type": "markdown",
   "metadata": {},
   "source": [
    "Целевые значения распределяются ненормально. Мы поработаем с этим позже.\n",
    "\n",
    "Обычно на этом этапе мы создаем несколько графиков для иллюстрации и анализа данных. Однако даже числовые объекты представлены здесь в виде строк. Поэтому сначала мы проведем предварительную обработку данных, а затем рассмотрим их более подробно."
   ]
  },
  {
   "cell_type": "markdown",
   "metadata": {},
   "source": [
    "## 3) Предварительная обработка данных."
   ]
  },
  {
   "cell_type": "markdown",
   "metadata": {},
   "source": [
    "**status**"
   ]
  },
  {
   "cell_type": "code",
   "execution_count": 16,
   "metadata": {},
   "outputs": [
    {
     "data": {
      "text/plain": [
       "count       374554\n",
       "unique         150\n",
       "top       for sale\n",
       "freq        199511\n",
       "Name: status, dtype: object"
      ]
     },
     "execution_count": 16,
     "metadata": {},
     "output_type": "execute_result"
    }
   ],
   "source": [
    "data['status'] = data['status'].apply(lambda x: str(x).lower())\n",
    "data['status'] = data['status'].astype(str)\n",
    "data['status'].describe()"
   ]
  },
  {
   "cell_type": "code",
   "execution_count": 17,
   "metadata": {},
   "outputs": [
    {
     "data": {
      "text/plain": [
       "for sale                   199511\n",
       "active                     105187\n",
       "nan                         39247\n",
       "foreclosure                  5981\n",
       "new construction             5458\n",
       "                            ...  \n",
       "coming soon: nov 8.             1\n",
       "coming soon: oct 29.            1\n",
       "coming soon: dec 15.            1\n",
       "pending w/backup wanted         1\n",
       "coming soon: dec 23.            1\n",
       "Name: status, Length: 150, dtype: int64"
      ]
     },
     "execution_count": 17,
     "metadata": {},
     "output_type": "execute_result"
    }
   ],
   "source": [
    "data['status'].value_counts(dropna=False)"
   ]
  },
  {
   "cell_type": "code",
   "execution_count": 18,
   "metadata": {},
   "outputs": [
    {
     "data": {
      "text/plain": [
       "active         199539\n",
       "contingent     125427\n",
       "no data         39247\n",
       "foreclosure      9264\n",
       "new               690\n",
       "rent              387\n",
       "Name: status, dtype: int64"
      ]
     },
     "execution_count": 18,
     "metadata": {},
     "output_type": "execute_result"
    }
   ],
   "source": [
    "# Унифицируем status.\n",
    "def status_optimisation(status):\n",
    "    # Создадим списки слов для поиска.\n",
    "    contingent_list = ['contingent', 'contingencies', 'contingency', 'pending',\n",
    "                   'continue', 'contract', 'backups', 'p', 'c', 'pi', 'ct',\n",
    "                   'due diligence period', 'p pending sale', 'closed', 'pf',\n",
    "                   'accepted offer', 'ps', 'backup']\n",
    "    active_list = ['active', 'for sale', 'lease/purchase', 'back on market',\n",
    "                   'listing extended', 're activated', 'reactivated']\n",
    "    new_list = ['new', 'coming soon']\n",
    "    foreclosure_list = ['foreclosure', 'pre-foreclosure']\n",
    "    \n",
    "    # Проверим, содержат ли строки какое-либо из слов в списках.\n",
    "    if status:\n",
    "        if 'rent' in status:\n",
    "            return 'rent'\n",
    "        elif any(word in status for word in foreclosure_list):\n",
    "            return 'foreclosure'\n",
    "        elif any(word in status for word in contingent_list):\n",
    "            return 'contingent'\n",
    "        elif any(word in status for word in active_list):\n",
    "            return 'active'\n",
    "        elif any(word in status for word in new_list):\n",
    "            return 'new'\n",
    "        else:\n",
    "            return 'no data'\n",
    "    else:\n",
    "        return 'no data'\n",
    "    \n",
    "data['status'] = data['status'].apply(lambda x: status_optimisation(x))\n",
    "data['status'].value_counts()"
   ]
  },
  {
   "cell_type": "markdown",
   "metadata": {},
   "source": [
    "**private pool & PrivatePool**"
   ]
  },
  {
   "cell_type": "code",
   "execution_count": 19,
   "metadata": {},
   "outputs": [
    {
     "data": {
      "text/plain": [
       "count     374554\n",
       "unique         2\n",
       "top          nan\n",
       "freq      370403\n",
       "Name: private pool, dtype: object"
      ]
     },
     "execution_count": 19,
     "metadata": {},
     "output_type": "execute_result"
    }
   ],
   "source": [
    "data['private pool'] = data['private pool'].apply(lambda x: str(x).lower())\n",
    "data['private pool'].describe()"
   ]
  },
  {
   "cell_type": "code",
   "execution_count": 20,
   "metadata": {},
   "outputs": [
    {
     "data": {
      "text/plain": [
       "count     374554\n",
       "unique         2\n",
       "top          nan\n",
       "freq      334435\n",
       "Name: PrivatePool, dtype: object"
      ]
     },
     "execution_count": 20,
     "metadata": {},
     "output_type": "execute_result"
    }
   ],
   "source": [
    "data['PrivatePool'] = data['PrivatePool'].apply(lambda x: str(x).lower())\n",
    "data['PrivatePool'].describe()"
   ]
  },
  {
   "cell_type": "code",
   "execution_count": 21,
   "metadata": {},
   "outputs": [],
   "source": [
    "# Объединим столбцы.\n",
    "data['private pool'] = data['private pool'].apply(lambda x: 1 if x == 'yes' else 0)\n",
    "data['PrivatePool'] = data['PrivatePool'].apply(lambda x: 1 if x == 'yes' else 0)\n",
    "data['PrivatePool'] = data['private pool'] | data['PrivatePool']\n",
    "data['PrivatePool'] = data['PrivatePool'].astype('int')"
   ]
  },
  {
   "cell_type": "markdown",
   "metadata": {},
   "source": [
    "**propertyType**"
   ]
  },
  {
   "cell_type": "code",
   "execution_count": 22,
   "metadata": {},
   "outputs": [
    {
     "data": {
      "text/plain": [
       "count                 374554\n",
       "unique                  1272\n",
       "top       single-family home\n",
       "freq                   91355\n",
       "Name: propertyType, dtype: object"
      ]
     },
     "execution_count": 22,
     "metadata": {},
     "output_type": "execute_result"
    }
   ],
   "source": [
    "data['propertyType'] = data['propertyType'].apply(lambda x: str(x).lower())\n",
    "data['propertyType'] = data['propertyType'].astype(str)\n",
    "data['propertyType'].describe()"
   ]
  },
  {
   "cell_type": "code",
   "execution_count": 23,
   "metadata": {},
   "outputs": [
    {
     "data": {
      "text/plain": [
       "single-family home                                             91355\n",
       "single family                                                  61884\n",
       "condo                                                          42364\n",
       "nan                                                            34538\n",
       "single family home                                             31724\n",
       "                                                               ...  \n",
       "contemporary, farmhouse                                            1\n",
       "2 stories, traditional, mediterranean, texas hill country          1\n",
       "1 story, contemporary, traditional, mediterranean                  1\n",
       "loft, warehouse                                                    1\n",
       "bilevel, converted dwelling, loft with bedrooms, condo/unit        1\n",
       "Name: propertyType, Length: 1272, dtype: int64"
      ]
     },
     "execution_count": 23,
     "metadata": {},
     "output_type": "execute_result"
    }
   ],
   "source": [
    "data['propertyType'].value_counts(dropna=False)"
   ]
  },
  {
   "cell_type": "code",
   "execution_count": 24,
   "metadata": {},
   "outputs": [
    {
     "data": {
      "text/plain": [
       "house           248691\n",
       "condo            49504\n",
       "no data          34538\n",
       "land             31404\n",
       "contemporary      2760\n",
       "mobile            2670\n",
       "ranches           2422\n",
       "townhouse         1911\n",
       "other              654\n",
       "Name: propertyType, dtype: int64"
      ]
     },
     "execution_count": 24,
     "metadata": {},
     "output_type": "execute_result"
    }
   ],
   "source": [
    "# Унифицируем propertyType\n",
    "def propertyType_optimisation(prop_type):\n",
    "    # Создадим списки слов для поиска.\n",
    "    house_list = ['house', 'family', 'home', 'traditional', 'stories', 'story', \n",
    "                  'transitional', 'florida', 'bungalow', 'cape cod', 'mediterranean']\n",
    "    townhouse_list = ['townhouse', 'multiplex', 'duplex', 'triplex', 'urban', 'fourplex',\n",
    "                      'attached', 'detached','split-entry']\n",
    "    condo_list = ['condo', 'apartment', 'cooperative', 'high rise', 'multiple', 'coop',\n",
    "                  'co-op', 'loft', 'flat', 'penthouse']\n",
    "    ranches_list = ['ranches', 'rancher', 'ranch', 'farm', 'miscellaneous']\n",
    "    \n",
    "    # Проверим, содержат ли строки какое-либо из слов в списках.\n",
    "    if prop_type:\n",
    "        if any(word in prop_type for word in house_list):\n",
    "            return 'house'\n",
    "        elif any(word in prop_type for word in townhouse_list):\n",
    "            return 'townhouse'\n",
    "        elif any(word in prop_type for word in condo_list):\n",
    "            return 'condo'\n",
    "        elif any(word in prop_type for word in ranches_list):\n",
    "            return 'ranches'\n",
    "        elif 'other' in prop_type:\n",
    "            return 'other'\n",
    "        elif 'contemporary' in prop_type:\n",
    "            return 'contemporary'\n",
    "        elif 'land' in prop_type:\n",
    "            return 'land'\n",
    "        elif 'commercial' in prop_type:\n",
    "            return 'other'\n",
    "        elif 'mobile' in prop_type:\n",
    "            return 'mobile'\n",
    "        elif 'nan' in prop_type:\n",
    "            return 'no data'\n",
    "        else:\n",
    "            return 'house'\n",
    "    else:\n",
    "        return 'no data'\n",
    "    \n",
    "data['propertyType'] = data['propertyType'].apply(lambda x: propertyType_optimisation(x))\n",
    "data['propertyType'].value_counts()"
   ]
  },
  {
   "cell_type": "markdown",
   "metadata": {},
   "source": [
    "**street**"
   ]
  },
  {
   "cell_type": "code",
   "execution_count": 25,
   "metadata": {},
   "outputs": [
    {
     "data": {
      "text/plain": [
       "count                    374554\n",
       "unique                   333851\n",
       "top       address not disclosed\n",
       "freq                        672\n",
       "Name: street, dtype: object"
      ]
     },
     "execution_count": 25,
     "metadata": {},
     "output_type": "execute_result"
    }
   ],
   "source": [
    "data['street'] = data['street'].apply(lambda x: str(x).lower())\n",
    "data['street'].describe()"
   ]
  },
  {
   "cell_type": "code",
   "execution_count": 26,
   "metadata": {},
   "outputs": [
    {
     "data": {
      "text/plain": [
       "address not disclosed    672\n",
       "undisclosed address      515\n",
       "(undisclosed address)    391\n",
       "address not available    175\n",
       "unknown address           72\n",
       "2103 e state hwy 21       57\n",
       "11305 gulf fwy            54\n",
       "17030 youngblood rd.      38\n",
       "ne 58th cir               34\n",
       "9470 lancaster rd. sw     32\n",
       "Name: street, dtype: int64"
      ]
     },
     "execution_count": 26,
     "metadata": {},
     "output_type": "execute_result"
    }
   ],
   "source": [
    "data['street'].value_counts().head(10)"
   ]
  },
  {
   "cell_type": "code",
   "execution_count": 27,
   "metadata": {},
   "outputs": [
    {
     "data": {
      "text/plain": [
       "street     109836\n",
       "drive       59737\n",
       "avenue      58525\n",
       "road        33303\n",
       "other       27129\n",
       "lane        21636\n",
       "court       15401\n",
       "place       14757\n",
       "way         13208\n",
       "blvd        11827\n",
       "circle       7362\n",
       "no data      1833\n",
       "Name: street, dtype: int64"
      ]
     },
     "execution_count": 27,
     "metadata": {},
     "output_type": "execute_result"
    }
   ],
   "source": [
    "# Унифицируем street.\n",
    "def street_optimisation(address):\n",
    "    # Создадим списки слов для поиска.\n",
    "    drive_list = ['drive', 'dr', 'edr', 'ndr', 'sdr', 'wdr']\n",
    "    lane_list = ['lane', 'ln', 'eln', 'nln', 'sln', 'wln', 'laneway', 'lnwy']\n",
    "    way_list = ['way', 'freeway', 'fwy', 'highway', 'hwy', 'driveway', 'dvwy', \n",
    "                'expressway', 'exp', 'fairway', 'fawy', 'footway', 'ftwy',\n",
    "                'motorway', 'mtwy', 'parkway', 'pkwy', 'pwy', 'pathway', 'pway']\n",
    "    \n",
    "    # Проверим, содержат ли строки какое-либо из слов в списках.\n",
    "    if address:\n",
    "        if 'address' in address: return 'no data'\n",
    "        elif 'street' in address: return 'street'\n",
    "        elif 'st' in address: return 'street'\n",
    "        elif any(word in address for word in drive_list):\n",
    "            return 'drive'\n",
    "        elif any(word in address for word in lane_list):\n",
    "            return 'lane'\n",
    "        elif any(word in address for word in way_list):\n",
    "            return 'way'\n",
    "        elif 'avenue' in address: return 'avenue'\n",
    "        elif 'ave' in address: return 'avenue'\n",
    "        elif 'rd' in address: return 'road'\n",
    "        elif 'road' in address: return 'road'\n",
    "        elif 'blvd' in address: return 'blvd'\n",
    "        elif 'circle' in address: return 'circle'\n",
    "        elif 'cir' in address: return 'circle'\n",
    "        elif 'ct' in address: return 'court'\n",
    "        elif 'court' in address: return 'court'\n",
    "        elif 'pl' in address: return 'place'\n",
    "        elif 'place' in address: return 'place'\n",
    "        else:\n",
    "            return 'other'\n",
    "    else:\n",
    "        return 'no data'\n",
    "\n",
    "data['street'] = data['street'].apply(lambda x: street_optimisation(x))\n",
    "data['street'].value_counts().head(50)"
   ]
  },
  {
   "cell_type": "markdown",
   "metadata": {},
   "source": [
    "**baths**"
   ]
  },
  {
   "cell_type": "code",
   "execution_count": 28,
   "metadata": {},
   "outputs": [
    {
     "data": {
      "text/plain": [
       "count     374554\n",
       "unique       225\n",
       "top          nan\n",
       "freq      105275\n",
       "Name: baths, dtype: object"
      ]
     },
     "execution_count": 28,
     "metadata": {},
     "output_type": "execute_result"
    }
   ],
   "source": [
    "data['baths'] = data['baths'].apply(lambda x: str(x).lower())\n",
    "data['baths'].describe()"
   ]
  },
  {
   "cell_type": "code",
   "execution_count": 29,
   "metadata": {},
   "outputs": [
    {
     "data": {
      "text/plain": [
       "nan             105275\n",
       "2 baths          52063\n",
       "3 baths          35392\n",
       "2                20428\n",
       "2.0              16354\n",
       "4 baths          14723\n",
       "3.0              10795\n",
       "3                10093\n",
       "bathrooms: 2      9410\n",
       "2.5               8113\n",
       "Name: baths, dtype: int64"
      ]
     },
     "execution_count": 29,
     "metadata": {},
     "output_type": "execute_result"
    }
   ],
   "source": [
    "data['baths'].value_counts().head(10)"
   ]
  },
  {
   "cell_type": "code",
   "execution_count": 30,
   "metadata": {},
   "outputs": [],
   "source": [
    "# Удалим запятые для больших чисел (например, 1,000 или 1,750).\n",
    "# Строки с большими значениями не являются ванными комнатами. Мы удалим их позже.\n",
    "data['baths'] = data['baths'].str.replace(',', '', regex=True)\n",
    "# Округлим такие значения, как \"2,5 ванные комнаты\".\n",
    "data['baths'] = data['baths'].str.replace('\\.\\d+', '', regex=True)\n",
    "# Оставим только цифры.\n",
    "data['baths'] = data['baths'].str.replace('\\D+', '', regex=True)"
   ]
  },
  {
   "cell_type": "code",
   "execution_count": 31,
   "metadata": {},
   "outputs": [],
   "source": [
    "data['baths']=pd.to_numeric(data['baths'], errors='coerce')\n",
    "# Отсутствует много данных. Мы берем на себя риск заполнить его цифрой \"2\".\n",
    "data['baths'] = data['baths'].fillna('2')\n",
    "data['baths'] = data['baths'].astype('int')"
   ]
  },
  {
   "cell_type": "code",
   "execution_count": 32,
   "metadata": {},
   "outputs": [
    {
     "data": {
      "text/plain": [
       "2    235261\n",
       "3     70257\n",
       "4     27515\n",
       "1     18491\n",
       "5      9733\n",
       "6      4486\n",
       "0      3918\n",
       "7      2140\n",
       "9      1564\n",
       "8      1189\n",
       "Name: baths, dtype: int64"
      ]
     },
     "execution_count": 32,
     "metadata": {},
     "output_type": "execute_result"
    }
   ],
   "source": [
    "# Заменим значения более 50 ванных комнат на 2.\n",
    "data['baths'] = data['baths'].apply(lambda x: 2 if x > 50 else x)\n",
    "# Заменим значения всех 9+ ванных комнат на 9\n",
    "data['baths'] = data['baths'].apply(lambda x: 9 if x > 9 else x)\n",
    "data['baths'] = data['baths'].astype('int16')\n",
    "data['baths'].value_counts().head(10)"
   ]
  },
  {
   "cell_type": "markdown",
   "metadata": {},
   "source": [
    "**homeFacts**"
   ]
  },
  {
   "cell_type": "code",
   "execution_count": 33,
   "metadata": {},
   "outputs": [
    {
     "data": {
      "text/plain": [
       "count                                                374554\n",
       "unique                                               318345\n",
       "top       {'ataglancefacts': [{'factvalue': '', 'factlab...\n",
       "freq                                                   7134\n",
       "Name: homeFacts, dtype: object"
      ]
     },
     "execution_count": 33,
     "metadata": {},
     "output_type": "execute_result"
    }
   ],
   "source": [
    "data['homeFacts'] = data['homeFacts'].apply(lambda x: str(x).lower())\n",
    "data['homeFacts'].describe()"
   ]
  },
  {
   "cell_type": "code",
   "execution_count": 34,
   "metadata": {},
   "outputs": [
    {
     "data": {
      "text/plain": [
       "\"{'ataglancefacts': [{'factvalue': '2019', 'factlabel': 'year built'}, {'factvalue': '', 'factlabel': 'remodeled year'}, {'factvalue': 'central a/c, heat pump', 'factlabel': 'heating'}, {'factvalue': '', 'factlabel': 'cooling'}, {'factvalue': '', 'factlabel': 'parking'}, {'factvalue': none, 'factlabel': 'lotsize'}, {'factvalue': '$144', 'factlabel': 'price/sqft'}]}\""
      ]
     },
     "execution_count": 34,
     "metadata": {},
     "output_type": "execute_result"
    }
   ],
   "source": [
    "# Структура этой ячейки немного сложна.\n",
    "data['homeFacts'][0]"
   ]
  },
  {
   "cell_type": "code",
   "execution_count": 35,
   "metadata": {},
   "outputs": [
    {
     "data": {
      "text/plain": [
       "acre    76827\n",
       "Name: lotsize_measure, dtype: int64"
      ]
     },
     "execution_count": 35,
     "metadata": {},
     "output_type": "execute_result"
    }
   ],
   "source": [
    "# Разберемся с \"lot_size\". Некоторые из них написаны в акрах.\n",
    "# Создадим новый столбец 'lotsize_measure', чтобы отметить те ячейки, в которых используются акры.\n",
    "\n",
    "import re\n",
    "\n",
    "def get_lotsize_measure(home_facts_str):\n",
    "    if re.search(r\"acre['s]*\", home_facts_str):\n",
    "        return 'acre'\n",
    "    return None\n",
    "\n",
    "data['lotsize_measure'] = data['homeFacts'].apply(get_lotsize_measure)\n",
    "data['lotsize_measure'].value_counts()"
   ]
  },
  {
   "cell_type": "code",
   "execution_count": 36,
   "metadata": {},
   "outputs": [],
   "source": [
    "# Удалим все нечисловые символы, используемые в \"factvalue\".\n",
    "\n",
    "import re\n",
    "\n",
    "def process_home_facts(home_facts):\n",
    "    # Перейдём в нижний регистр.\n",
    "    home_facts = home_facts.lower()\n",
    "    # Удалим запятые между цифрами.\n",
    "    home_facts = re.sub(r'(\\d),(\\d)', r'\\1\\2', home_facts)\n",
    "    # Удалим символ '$'.\n",
    "    home_facts = home_facts.replace('$', '')\n",
    "    # Удалим строки ' sqft', '/sqft', и ' sq. ft.'.\n",
    "    home_facts = home_facts.replace(' sqft', '')\n",
    "    home_facts = home_facts.replace('/sqft', '')\n",
    "    home_facts = home_facts.replace(' sq. ft.', '')\n",
    "    # Удалим строки ' lot', ' acres', ' acre', и 'contact manager'.\n",
    "    home_facts = home_facts.replace(' lot', '')\n",
    "    home_facts = home_facts.replace(' acres', '')\n",
    "    home_facts = home_facts.replace(' acre', '')\n",
    "    home_facts = home_facts.replace('contact manager', '')\n",
    "    # Удалим '—', '-', ' /' и 'no info'.\n",
    "    home_facts = home_facts.replace('—', '')\n",
    "    home_facts = home_facts.replace('-', '')\n",
    "    home_facts = home_facts.replace(' /', '')\n",
    "    home_facts = home_facts.replace('no info', '')\n",
    "    return home_facts\n",
    "\n",
    "# Выполним итерацию по каждой строке в столбце \"homeFacts\".\n",
    "for i, row in data.iterrows():\n",
    "    home_facts = row['homeFacts']\n",
    "    home_facts = process_home_facts(home_facts)\n",
    "    data.at[i, 'homeFacts'] = home_facts"
   ]
  },
  {
   "cell_type": "code",
   "execution_count": null,
   "metadata": {},
   "outputs": [],
   "source": [
    "# Создим шаблон регулярного выражения для сопоставления пары ключ-значение в строке\n",
    "pattern = r\"{'factvalue': '(.*?)', 'factlabel': '(.*?)'}\"\n",
    "\n",
    "# Выполним итерацию по каждой строке в столбце \"homeFacts\".\n",
    "for i, row in data.iterrows():\n",
    "    home_facts_str = row['homeFacts']\n",
    "\n",
    "    # Найдём все пары ключ-значение в строке.\n",
    "    matches = re.finditer(pattern, home_facts_str)\n",
    "    home_facts = {}\n",
    "    for match in matches:\n",
    "        factvalue = match.group(1)\n",
    "        factlabel = match.group(2)\n",
    "        home_facts[factlabel] = factvalue\n",
    "\n",
    "    # Обновим строку извлеченными парами ключ-значение, преобразовав в соответствующий тип данных \n",
    "    # 'year_built' и 'remodeled year' - int\n",
    "    year_built = home_facts.get('year built', None)\n",
    "    if year_built is None or year_built == 'no data' or year_built == '':\n",
    "        data.at[i, 'year built'] = None\n",
    "    else:\n",
    "        data.at[i, 'year built'] = int(year_built)\n",
    "    \n",
    "    remodeled_year = home_facts.get('remodeled year', None)\n",
    "    if remodeled_year is None or remodeled_year == 'no data' or remodeled_year == '':\n",
    "        data.at[i, 'remodeled year'] = None\n",
    "    else:\n",
    "        data.at[i, 'remodeled year'] = int(remodeled_year)\n",
    "\n",
    "    # 'heating', 'cooling', 'parking' - str\n",
    "    data.at[i, 'heating'] = home_facts.get('heating', None)\n",
    "    data.at[i, 'cooling'] = home_facts.get('cooling', None)\n",
    "    data.at[i, 'parking'] = home_facts.get('parking', None)\n",
    "\n",
    "    # 'lotsize', ' price' - float\n",
    "    lot_size = home_facts.get('lotsize', None)\n",
    "    if lot_size is None or lot_size == 'no data' or lot_size == '':\n",
    "        data.at[i, 'lotsize'] = None\n",
    "    else:\n",
    "        data.at[i, 'lotsize'] = float(lot_size)\n",
    "\n",
    "    price_sqft = home_facts.get('price', None)\n",
    "    if price_sqft is None or price_sqft == 'no data' or price_sqft == '':\n",
    "        data.at[i, 'price'] = None\n",
    "    else:\n",
    "        data.at[i, 'price'] = float(price_sqft)"
   ]
  }
 ],
 "metadata": {
  "kernelspec": {
   "display_name": "Python 3.8.16 ('first-year')",
   "language": "python",
   "name": "python3"
  },
  "language_info": {
   "codemirror_mode": {
    "name": "ipython",
    "version": 3
   },
   "file_extension": ".py",
   "mimetype": "text/x-python",
   "name": "python",
   "nbconvert_exporter": "python",
   "pygments_lexer": "ipython3",
   "version": "3.8.16"
  },
  "orig_nbformat": 4,
  "vscode": {
   "interpreter": {
    "hash": "b7a5ec69d8dcc6c155149315b2a9dbd06789ffa329af66e7b5d6f44bbc33a1a1"
   }
  }
 },
 "nbformat": 4,
 "nbformat_minor": 2
}
